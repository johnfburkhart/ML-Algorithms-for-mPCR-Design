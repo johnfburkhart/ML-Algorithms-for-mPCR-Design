{
 "cells": [
  {
   "cell_type": "code",
   "execution_count": 16,
   "metadata": {},
   "outputs": [],
   "source": [
    "import pandas as pd\n",
    "from matplotlib import pyplot as plt\n",
    "import numpy as np\n",
    "import os\n",
    "import seaborn as sns\n",
    "import sklearn as sk"
   ]
  },
  {
   "cell_type": "markdown",
   "metadata": {},
   "source": [
    "**Import files and make big primer dataframe**"
   ]
  },
  {
   "cell_type": "code",
   "execution_count": 2,
   "metadata": {},
   "outputs": [],
   "source": [
    "primer_filenames = [\"Ba_1_primer_stats.csv\",\"Ba_2_primer_stats.csv\", \"Ba_3_primer_stats.csv\",\n",
    "            \"Ba_4_primer_stats.csv\", \"Ba_5_V35_primer_stats.csv\", \"Ba_5_V3_primer_stats.csv\",\n",
    "            \"Ba_6_V4_primer_stats.csv\", \"Ba_HighSH_primer_stats.csv\", \"Ba_HighSpec_primer_stats.csv\", \n",
    "            \"Ba_LowSH_primer_stats.csv\", \"Ba_OkX_primer_stats.csv\", \"Ba_V45_primer_stats.csv\", \n",
    "            \"Ft_1_primer_stats.csv\", \"Ft_2_primer_stats.csv\", \"Ft_2_V2_primer_stats.csv\",\n",
    "            \"Yp_1_primer_stats.csv\", \"Yp_2_primer_stats.csv\", \"Yp_1_V2_primer_stats.csv\"]\n",
    "\n",
    "pdfs = []\n",
    "for filename in primer_filenames:\n",
    "    pdfs.append(pd.read_csv(filename))\n",
    "primer_frame = pd.concat(pdfs, axis=0, ignore_index=True, sort=False)"
   ]
  },
  {
   "cell_type": "markdown",
   "metadata": {},
   "source": [
    "**Same thing for outcomes**"
   ]
  },
  {
   "cell_type": "code",
   "execution_count": 3,
   "metadata": {},
   "outputs": [],
   "source": [
    "outcome_filenames = [\"Ba_1_outcomes.csv\",\"Ba_2_outcomes.csv\", \"Ba_3_outcomes.csv\",\n",
    "            \"Ba_4_outcomes.csv\", \"Ba_5_V35_outcomes.csv\", \"Ba_5_V3_outcomes.csv\",\n",
    "            \"Ba_6_V4_outcomes.csv\", \"Ba_HighSH_outcomes.csv\", \"Ba_HighSpec_outcomes.csv\", \n",
    "            \"Ba_LowSH_outcomes.csv\", \"Ba_OkX_outcomes.csv\", \"Ba_V45_outcomes.csv\", \n",
    "            \"Ft_1_outcomes.csv\", \"Ft_2_outcomes.csv\", \"Ft_2_V2_outcomes.csv\",\n",
    "            \"Yp_1_outcomes.csv\", \"Yp_2_outcomes.csv\", \"Yp_1_V2_outcomes.csv\"]\n",
    "odfs = []\n",
    "for filename in outcome_filenames:\n",
    "    odfs.append(pd.read_csv(filename))\n",
    "    \n",
    "outcome_frame = pd.concat(odfs, axis=0, ignore_index=True, sort=False)"
   ]
  },
  {
   "cell_type": "markdown",
   "metadata": {},
   "source": [
    "**Figure with primer, experiment, sample, and amplicon count**"
   ]
  },
  {
   "cell_type": "code",
   "execution_count": 4,
   "metadata": {},
   "outputs": [
    {
     "data": {
      "image/png": "[encoded data removed]",
      "text/plain": [
       "<Figure size 432x288 with 1 Axes>"
      ]
     },
     "metadata": {
      "needs_background": "light"
     },
     "output_type": "display_data"
    }
   ],
   "source": [
    "counts = [540, 138, 18, 124]\n",
    "labels = [\"Primers\", \"Samples\", \"Primer set\", \"Amplicons\"]\n",
    "y_pos = np.arange(len(labels))\n",
    "plt.bar(y_pos, counts, align='center', alpha=0.5)\n",
    "plt.xticks(y_pos, counts)\n",
    "plt.ylabel('Counts')\n",
    "plt.title('Counts of primers, experiments, and samples')\n",
    "\n",
    "plt.show()"
   ]
  },
  {
   "cell_type": "markdown",
   "metadata": {},
   "source": [
    "**Figure with samples per primer set/experiment**"
   ]
  },
  {
   "cell_type": "code",
   "execution_count": 5,
   "metadata": {},
   "outputs": [
    {
     "ename": "SyntaxError",
     "evalue": "invalid syntax (<ipython-input-5-1ebfd1fe2451>, line 5)",
     "output_type": "error",
     "traceback": [
      "\u001b[0;36m  File \u001b[0;32m\"<ipython-input-5-1ebfd1fe2451>\"\u001b[0;36m, line \u001b[0;32m5\u001b[0m\n\u001b[0;31m    set_names = ['S1', 'S2', 'S3', 'S4', 'S5', 'S6', 'S7', 'S8', 'S9', 'S10',\u001b[0m\n\u001b[0m            ^\u001b[0m\n\u001b[0;31mSyntaxError\u001b[0m\u001b[0;31m:\u001b[0m invalid syntax\n"
     ]
    }
   ],
   "source": [
    "sample_counts_per_set = []\n",
    "for primer_set in odfs:\n",
    "    sample_counts_per_set.append(primer_set['sample_id'].nunique()\n",
    "                                 \n",
    "set_names = ['S1', 'S2', 'S3', 'S4', 'S5', 'S6', 'S7', 'S8', 'S9', 'S10', \n",
    "             'S11', 'S12', 'S13', 'S14', 'S15', 'S16', 'S17', 'S18']\n",
    "df = {\n",
    "    'Set Names': ['S1', 'S2', 'S3', 'S4', 'S5', 'S6', 'S7', 'S8', 'S9', 'S10', \n",
    "             'S11', 'S12', 'S13', 'S14', 'S15', 'S16', 'S17', 'S18'], \n",
    "    'Sample Count': [4, 12, 36, 11, 18, 9, 16, 9, 9, 9, 9, 18, 11, 12, 12, 12, 12, 6],\n",
    "     }\n",
    "df = pd.DataFrame(df)\n",
    "df\n",
    "#heatmap1_data = pd.pivot_table(df, values='Sample Counts', columns='Set Names')\n",
    "ax = df.plt.bar(x='Set Names', y='Sample Count', rot=0)"
   ]
  },
  {
   "cell_type": "markdown",
   "metadata": {},
   "source": [
    "**BA Amplicon Count**"
   ]
  },
  {
   "cell_type": "code",
   "execution_count": null,
   "metadata": {},
   "outputs": [],
   "source": [
    "ba_files = [\"Ba_1_outcomes.csv\",\"Ba_2_outcomes.csv\", \"Ba_3_outcomes.csv\",\n",
    "            \"Ba_4_outcomes.csv\", \"Ba_5_V35_outcomes.csv\", \"Ba_5_V3_outcomes.csv\",\n",
    "            \"Ba_6_V4_outcomes.csv\", \"Ba_HighSH_outcomes.csv\", \"Ba_HighSpec_outcomes.csv\", \n",
    "            \"Ba_LowSH_outcomes.csv\", \"Ba_OkX_outcomes.csv\", \"Ba_V45_outcomes.csv\"]\n",
    "ba_read = []\n",
    "\n",
    "for f in ba_files:\n",
    "    ba_read.append(pd.read_csv(f))\n",
    "ba_frame = pd.concat(ba_read, axis=0, ignore_index=True, sort=False)\n",
    "ba_frame['amplicon_id'].nunique()"
   ]
  },
  {
   "cell_type": "markdown",
   "metadata": {},
   "source": [
    "**YP Amplicon Count**"
   ]
  },
  {
   "cell_type": "code",
   "execution_count": null,
   "metadata": {},
   "outputs": [],
   "source": [
    "yp_files = [\"Yp_1_outcomes.csv\", \"Yp_2_outcomes.csv\", \"Yp_1_V2_outcomes.csv\"]\n",
    "\n",
    "yp_read = []\n",
    "\n",
    "for f in yp_files:\n",
    "    yp_read.append(pd.read_csv(f))\n",
    "yp_frame = pd.concat(yp_read, axis=0, ignore_index=True, sort=False)\n",
    "\n",
    "yp_frame['amplicon_id'].nunique()"
   ]
  },
  {
   "cell_type": "markdown",
   "metadata": {},
   "source": [
    "**FT Amplicon Count**"
   ]
  },
  {
   "cell_type": "code",
   "execution_count": null,
   "metadata": {},
   "outputs": [],
   "source": [
    "ft_files = [\"Ft_1_outcomes.csv\", \"Ft_2_outcomes.csv\", \"Ft_2_V2_outcomes.csv\"]\n",
    "\n",
    "ft_read = []\n",
    "\n",
    "for f in ft_files:\n",
    "    ft_read.append(pd.read_csv(f))\n",
    "ft_frame = pd.concat(ft_read, axis = 0, ignore_index =True, sort =False)\n",
    "ft_frame['amplicon_id'].nunique()"
   ]
  },
  {
   "cell_type": "markdown",
   "metadata": {},
   "source": [
    "**Standardize values for upcoming figure**"
   ]
  },
  {
   "cell_type": "code",
   "execution_count": null,
   "metadata": {},
   "outputs": [],
   "source": [
    "main_df = primer_frame.set_index('Primer_Name')\n",
    "main_df = main_df.sort_values(by=[\"Amplicon\"]) \n",
    "\n",
    "main_df = main_df[[\"Primer_Length\", \"Tm\", \"GC_Content\", \"Length_Longest_Homopolymer\", \"Percent_Homopolymer\"]] \n",
    "\n",
    "\n",
    "main_df = main_df.drop_duplicates() \n",
    "main_df_std=(main_df-main_df.mean())/main_df.std()"
   ]
  },
  {
   "cell_type": "markdown",
   "metadata": {},
   "source": [
    "**Figure 3: Heatmap with primers and their features (standardized)**"
   ]
  },
  {
   "cell_type": "code",
   "execution_count": null,
   "metadata": {},
   "outputs": [],
   "source": [
    "\n",
    "#ax = sns.heatmap(main_df_std, yticklabels=1) \n",
    "\n",
    "plt.figure(figsize = (100,80))\n",
    "ax = sns.clustermap(main_df_std, row_cluster = False)"
   ]
  },
  {
   "cell_type": "markdown",
   "metadata": {},
   "source": [
    "**Figure 1: FacetGrid stuff with reads per amplicon in a given sample**"
   ]
  },
  {
   "cell_type": "code",
   "execution_count": null,
   "metadata": {},
   "outputs": [],
   "source": [
    "samp_df.head()\n",
    "ba = samp_df[samp_df.species == \"Ba\"]\n",
    "# ba.shape, samp_df.shape\n",
    "\n",
    "samp_df.species.unique()\n",
    "ft_frame.head()"
   ]
  },
  {
   "cell_type": "code",
   "execution_count": null,
   "metadata": {},
   "outputs": [],
   "source": [
    "# I am trying to change this into a for loop where it goes \n",
    "# over each csv, but I am having trouble running it. \n",
    "\n",
    "#for f in yp_filenames:\n",
    "#    df = pd.read_csv(f)\n",
    "#    df.drop_duplicates\n",
    "    \n",
    "#    g = sns.FacetGrid(df, col = 'sample_id', row = 'amplicon_id')\n",
    "#    g = g.map(plt.scatter, 'amplicon_id', )\n",
    "samp_df = pd.read_csv(\"Ba_1_outcomes.csv\")\n",
    "\n",
    "\n",
    "g = sns.FacetGrid(ft_frame, col= \"sample_id\", sharey = False, col_wrap = 4)\n",
    "#grouped_stuff = samp_df.groupby(['sample_id']).n_reads.sum()\n",
    "#samp_df\n",
    "\n",
    "g = g.map(plt.scatter, 'amplicon_id', 'n_reads').set(yscale = 'log')\n"
   ]
  },
  {
   "cell_type": "markdown",
   "metadata": {},
   "source": [
    "**Figure 2: Binary heatmap of primers per primer set/experiment**"
   ]
  },
  {
   "cell_type": "code",
   "execution_count": null,
   "metadata": {},
   "outputs": [],
   "source": [
    "name_count_list = []\n",
    "for number, data in enumerate(pdfs):\n",
    "    df = pd.DataFrame(data=data)\n",
    "    name_counts = df['Seq'].value_counts()\n",
    "    name_counts.name = \"df_\" + str(number)\n",
    "    name_count_list.append(name_counts)\n",
    "dfs = pd.concat(name_count_list, axis=1, sort=False)\n",
    "dfs = dfs.fillna(0)\n",
    "\n",
    "flatui = [\"#dfe6e9\", \"#2d3436\"]\n",
    "dfs.columns = [primer_filenames]\n",
    "cbar_kws = { 'ticks' : [0, 1] }\n",
    "plt.figure(figsize = (40, 20))\n",
    "\n",
    "sns.heatmap(dfs, cmap = flatui, cbar_kws = cbar_kws, yticklabels = False)"
   ]
  },
  {
   "cell_type": "markdown",
   "metadata": {},
   "source": [
    "**Feature matrix**"
   ]
  },
  {
   "cell_type": "code",
   "execution_count": 27,
   "metadata": {},
   "outputs": [
    {
     "data": {
      "text/plain": [
       "['./primer_inputs/Ba_1_outcomes.csv',\n",
       " './primer_inputs/Ba_1_primer_stats.csv',\n",
       " './primer_inputs/Ba_2_outcomes.csv',\n",
       " './primer_inputs/Ba_2_primer_stats.csv',\n",
       " './primer_inputs/Ba_3_outcomes.csv',\n",
       " './primer_inputs/Ba_3_primer_stats.csv',\n",
       " './primer_inputs/Ba_4_outcomes.csv',\n",
       " './primer_inputs/Ba_4_primer_stats.csv',\n",
       " './primer_inputs/Ba_5_V35_outcomes.csv',\n",
       " './primer_inputs/Ba_5_V35_primer_stats.csv',\n",
       " './primer_inputs/Ba_5_V3_outcomes.csv',\n",
       " './primer_inputs/Ba_5_V3_primer_stats.csv',\n",
       " './primer_inputs/Ba_6_V4_outcomes.csv',\n",
       " './primer_inputs/Ba_6_V4_primer_stats.csv',\n",
       " './primer_inputs/Ba_HighSH_outcomes.csv',\n",
       " './primer_inputs/Ba_HighSH_primer_stats.csv',\n",
       " './primer_inputs/Ba_HighSpec_outcomes.csv',\n",
       " './primer_inputs/Ba_HighSpec_primer_stats.csv',\n",
       " './primer_inputs/Ba_LowSH_outcomes.csv',\n",
       " './primer_inputs/Ba_LowSH_primer_stats.csv',\n",
       " './primer_inputs/Ba_OkX_outcomes.csv',\n",
       " './primer_inputs/Ba_OkX_primer_stats.csv',\n",
       " './primer_inputs/Ba_V45_outcomes.csv',\n",
       " './primer_inputs/Ba_V45_primer_stats.csv',\n",
       " './primer_inputs/Ft_1_outcomes.csv',\n",
       " './primer_inputs/Ft_1_primer_stats.csv',\n",
       " './primer_inputs/Ft_2_V2_outcomes.csv',\n",
       " './primer_inputs/Ft_2_V2_primer_stats.csv',\n",
       " './primer_inputs/Ft_2_outcomes.csv',\n",
       " './primer_inputs/Ft_2_primer_stats.csv',\n",
       " './primer_inputs/Yp_1_V2_outcomes.csv',\n",
       " './primer_inputs/Yp_1_V2_primer_stats.csv',\n",
       " './primer_inputs/Yp_1_outcomes.csv',\n",
       " './primer_inputs/Yp_1_primer_stats.csv',\n",
       " './primer_inputs/Yp_2_outcomes.csv',\n",
       " './primer_inputs/Yp_2_primer_stats.csv']"
      ]
     },
     "execution_count": 27,
     "metadata": {},
     "output_type": "execute_result"
    }
   ],
   "source": [
    "primer_files = !ls ./primer_inputs/*.csv\n",
    "primer_files\n"
   ]
  },
  {
   "cell_type": "code",
   "execution_count": 32,
   "metadata": {},
   "outputs": [
    {
     "ename": "ValueError",
     "evalue": "Usecols do not match columns, columns expected but not found: ['Seq', 'Primer_Length', 'Length_Longest_Homopolymer', 'Percent_Homopolymer', 'Delta Tm', 'Primer_Name', 'GC_Content', 'Amplicon', 'Tm']",
     "output_type": "error",
     "traceback": [
      "\u001b[0;31m---------------------------------------------------------------------------\u001b[0m",
      "\u001b[0;31mValueError\u001b[0m                                Traceback (most recent call last)",
      "\u001b[0;32m<ipython-input-32-37089a50c995>\u001b[0m in \u001b[0;36m<module>\u001b[0;34m\u001b[0m\n\u001b[1;32m      5\u001b[0m   df = pd.read_csv(primer_file, usecols = ['Primer_Name', 'Seq', 'Amplicon',\n\u001b[1;32m      6\u001b[0m                             \u001b[0;34m'Primer_Length'\u001b[0m\u001b[0;34m,\u001b[0m \u001b[0;34m'Tm'\u001b[0m\u001b[0;34m,\u001b[0m \u001b[0;34m'Delta Tm'\u001b[0m\u001b[0;34m,\u001b[0m\u001b[0;34m\u001b[0m\u001b[0;34m\u001b[0m\u001b[0m\n\u001b[0;32m----> 7\u001b[0;31m                             'GC_Content', 'Length_Longest_Homopolymer', 'Percent_Homopolymer'])\n\u001b[0m\u001b[1;32m      8\u001b[0m   \u001b[0mdf\u001b[0m\u001b[0;34m[\u001b[0m\u001b[0;34m'exp'\u001b[0m\u001b[0;34m]\u001b[0m \u001b[0;34m=\u001b[0m \u001b[0mexp_name\u001b[0m\u001b[0;34m\u001b[0m\u001b[0;34m\u001b[0m\u001b[0m\n\u001b[1;32m      9\u001b[0m   \u001b[0mprimer_df\u001b[0m \u001b[0;34m=\u001b[0m \u001b[0mprimer_df\u001b[0m\u001b[0;34m.\u001b[0m\u001b[0mappend\u001b[0m\u001b[0;34m(\u001b[0m\u001b[0mdf\u001b[0m\u001b[0;34m)\u001b[0m\u001b[0;34m\u001b[0m\u001b[0;34m\u001b[0m\u001b[0m\n",
      "\u001b[0;32m/Library/Frameworks/Python.framework/Versions/3.7/lib/python3.7/site-packages/pandas/io/parsers.py\u001b[0m in \u001b[0;36mparser_f\u001b[0;34m(filepath_or_buffer, sep, delimiter, header, names, index_col, usecols, squeeze, prefix, mangle_dupe_cols, dtype, engine, converters, true_values, false_values, skipinitialspace, skiprows, skipfooter, nrows, na_values, keep_default_na, na_filter, verbose, skip_blank_lines, parse_dates, infer_datetime_format, keep_date_col, date_parser, dayfirst, cache_dates, iterator, chunksize, compression, thousands, decimal, lineterminator, quotechar, quoting, doublequote, escapechar, comment, encoding, dialect, error_bad_lines, warn_bad_lines, delim_whitespace, low_memory, memory_map, float_precision)\u001b[0m\n\u001b[1;32m    683\u001b[0m         )\n\u001b[1;32m    684\u001b[0m \u001b[0;34m\u001b[0m\u001b[0m\n\u001b[0;32m--> 685\u001b[0;31m         \u001b[0;32mreturn\u001b[0m \u001b[0m_read\u001b[0m\u001b[0;34m(\u001b[0m\u001b[0mfilepath_or_buffer\u001b[0m\u001b[0;34m,\u001b[0m \u001b[0mkwds\u001b[0m\u001b[0;34m)\u001b[0m\u001b[0;34m\u001b[0m\u001b[0;34m\u001b[0m\u001b[0m\n\u001b[0m\u001b[1;32m    686\u001b[0m \u001b[0;34m\u001b[0m\u001b[0m\n\u001b[1;32m    687\u001b[0m     \u001b[0mparser_f\u001b[0m\u001b[0;34m.\u001b[0m\u001b[0m__name__\u001b[0m \u001b[0;34m=\u001b[0m \u001b[0mname\u001b[0m\u001b[0;34m\u001b[0m\u001b[0;34m\u001b[0m\u001b[0m\n",
      "\u001b[0;32m/Library/Frameworks/Python.framework/Versions/3.7/lib/python3.7/site-packages/pandas/io/parsers.py\u001b[0m in \u001b[0;36m_read\u001b[0;34m(filepath_or_buffer, kwds)\u001b[0m\n\u001b[1;32m    455\u001b[0m \u001b[0;34m\u001b[0m\u001b[0m\n\u001b[1;32m    456\u001b[0m     \u001b[0;31m# Create the parser.\u001b[0m\u001b[0;34m\u001b[0m\u001b[0;34m\u001b[0m\u001b[0;34m\u001b[0m\u001b[0m\n\u001b[0;32m--> 457\u001b[0;31m     \u001b[0mparser\u001b[0m \u001b[0;34m=\u001b[0m \u001b[0mTextFileReader\u001b[0m\u001b[0;34m(\u001b[0m\u001b[0mfp_or_buf\u001b[0m\u001b[0;34m,\u001b[0m \u001b[0;34m**\u001b[0m\u001b[0mkwds\u001b[0m\u001b[0;34m)\u001b[0m\u001b[0;34m\u001b[0m\u001b[0;34m\u001b[0m\u001b[0m\n\u001b[0m\u001b[1;32m    458\u001b[0m \u001b[0;34m\u001b[0m\u001b[0m\n\u001b[1;32m    459\u001b[0m     \u001b[0;32mif\u001b[0m \u001b[0mchunksize\u001b[0m \u001b[0;32mor\u001b[0m \u001b[0miterator\u001b[0m\u001b[0;34m:\u001b[0m\u001b[0;34m\u001b[0m\u001b[0;34m\u001b[0m\u001b[0m\n",
      "\u001b[0;32m/Library/Frameworks/Python.framework/Versions/3.7/lib/python3.7/site-packages/pandas/io/parsers.py\u001b[0m in \u001b[0;36m__init__\u001b[0;34m(self, f, engine, **kwds)\u001b[0m\n\u001b[1;32m    893\u001b[0m             \u001b[0mself\u001b[0m\u001b[0;34m.\u001b[0m\u001b[0moptions\u001b[0m\u001b[0;34m[\u001b[0m\u001b[0;34m\"has_index_names\"\u001b[0m\u001b[0;34m]\u001b[0m \u001b[0;34m=\u001b[0m \u001b[0mkwds\u001b[0m\u001b[0;34m[\u001b[0m\u001b[0;34m\"has_index_names\"\u001b[0m\u001b[0;34m]\u001b[0m\u001b[0;34m\u001b[0m\u001b[0;34m\u001b[0m\u001b[0m\n\u001b[1;32m    894\u001b[0m \u001b[0;34m\u001b[0m\u001b[0m\n\u001b[0;32m--> 895\u001b[0;31m         \u001b[0mself\u001b[0m\u001b[0;34m.\u001b[0m\u001b[0m_make_engine\u001b[0m\u001b[0;34m(\u001b[0m\u001b[0mself\u001b[0m\u001b[0;34m.\u001b[0m\u001b[0mengine\u001b[0m\u001b[0;34m)\u001b[0m\u001b[0;34m\u001b[0m\u001b[0;34m\u001b[0m\u001b[0m\n\u001b[0m\u001b[1;32m    896\u001b[0m \u001b[0;34m\u001b[0m\u001b[0m\n\u001b[1;32m    897\u001b[0m     \u001b[0;32mdef\u001b[0m \u001b[0mclose\u001b[0m\u001b[0;34m(\u001b[0m\u001b[0mself\u001b[0m\u001b[0;34m)\u001b[0m\u001b[0;34m:\u001b[0m\u001b[0;34m\u001b[0m\u001b[0;34m\u001b[0m\u001b[0m\n",
      "\u001b[0;32m/Library/Frameworks/Python.framework/Versions/3.7/lib/python3.7/site-packages/pandas/io/parsers.py\u001b[0m in \u001b[0;36m_make_engine\u001b[0;34m(self, engine)\u001b[0m\n\u001b[1;32m   1133\u001b[0m     \u001b[0;32mdef\u001b[0m \u001b[0m_make_engine\u001b[0m\u001b[0;34m(\u001b[0m\u001b[0mself\u001b[0m\u001b[0;34m,\u001b[0m \u001b[0mengine\u001b[0m\u001b[0;34m=\u001b[0m\u001b[0;34m\"c\"\u001b[0m\u001b[0;34m)\u001b[0m\u001b[0;34m:\u001b[0m\u001b[0;34m\u001b[0m\u001b[0;34m\u001b[0m\u001b[0m\n\u001b[1;32m   1134\u001b[0m         \u001b[0;32mif\u001b[0m \u001b[0mengine\u001b[0m \u001b[0;34m==\u001b[0m \u001b[0;34m\"c\"\u001b[0m\u001b[0;34m:\u001b[0m\u001b[0;34m\u001b[0m\u001b[0;34m\u001b[0m\u001b[0m\n\u001b[0;32m-> 1135\u001b[0;31m             \u001b[0mself\u001b[0m\u001b[0;34m.\u001b[0m\u001b[0m_engine\u001b[0m \u001b[0;34m=\u001b[0m \u001b[0mCParserWrapper\u001b[0m\u001b[0;34m(\u001b[0m\u001b[0mself\u001b[0m\u001b[0;34m.\u001b[0m\u001b[0mf\u001b[0m\u001b[0;34m,\u001b[0m \u001b[0;34m**\u001b[0m\u001b[0mself\u001b[0m\u001b[0;34m.\u001b[0m\u001b[0moptions\u001b[0m\u001b[0;34m)\u001b[0m\u001b[0;34m\u001b[0m\u001b[0;34m\u001b[0m\u001b[0m\n\u001b[0m\u001b[1;32m   1136\u001b[0m         \u001b[0;32melse\u001b[0m\u001b[0;34m:\u001b[0m\u001b[0;34m\u001b[0m\u001b[0;34m\u001b[0m\u001b[0m\n\u001b[1;32m   1137\u001b[0m             \u001b[0;32mif\u001b[0m \u001b[0mengine\u001b[0m \u001b[0;34m==\u001b[0m \u001b[0;34m\"python\"\u001b[0m\u001b[0;34m:\u001b[0m\u001b[0;34m\u001b[0m\u001b[0;34m\u001b[0m\u001b[0m\n",
      "\u001b[0;32m/Library/Frameworks/Python.framework/Versions/3.7/lib/python3.7/site-packages/pandas/io/parsers.py\u001b[0m in \u001b[0;36m__init__\u001b[0;34m(self, src, **kwds)\u001b[0m\n\u001b[1;32m   1957\u001b[0m                 \u001b[0mself\u001b[0m\u001b[0;34m.\u001b[0m\u001b[0morig_names\u001b[0m\u001b[0;34m\u001b[0m\u001b[0;34m\u001b[0m\u001b[0m\n\u001b[1;32m   1958\u001b[0m             ):\n\u001b[0;32m-> 1959\u001b[0;31m                 \u001b[0m_validate_usecols_names\u001b[0m\u001b[0;34m(\u001b[0m\u001b[0musecols\u001b[0m\u001b[0;34m,\u001b[0m \u001b[0mself\u001b[0m\u001b[0;34m.\u001b[0m\u001b[0morig_names\u001b[0m\u001b[0;34m)\u001b[0m\u001b[0;34m\u001b[0m\u001b[0;34m\u001b[0m\u001b[0m\n\u001b[0m\u001b[1;32m   1960\u001b[0m \u001b[0;34m\u001b[0m\u001b[0m\n\u001b[1;32m   1961\u001b[0m             \u001b[0;32mif\u001b[0m \u001b[0mlen\u001b[0m\u001b[0;34m(\u001b[0m\u001b[0mself\u001b[0m\u001b[0;34m.\u001b[0m\u001b[0mnames\u001b[0m\u001b[0;34m)\u001b[0m \u001b[0;34m>\u001b[0m \u001b[0mlen\u001b[0m\u001b[0;34m(\u001b[0m\u001b[0musecols\u001b[0m\u001b[0;34m)\u001b[0m\u001b[0;34m:\u001b[0m\u001b[0;34m\u001b[0m\u001b[0;34m\u001b[0m\u001b[0m\n",
      "\u001b[0;32m/Library/Frameworks/Python.framework/Versions/3.7/lib/python3.7/site-packages/pandas/io/parsers.py\u001b[0m in \u001b[0;36m_validate_usecols_names\u001b[0;34m(usecols, names)\u001b[0m\n\u001b[1;32m   1253\u001b[0m         raise ValueError(\n\u001b[1;32m   1254\u001b[0m             \u001b[0;34m\"Usecols do not match columns, \"\u001b[0m\u001b[0;34m\u001b[0m\u001b[0;34m\u001b[0m\u001b[0m\n\u001b[0;32m-> 1255\u001b[0;31m             \u001b[0;34m\"columns expected but not found: {missing}\"\u001b[0m\u001b[0;34m.\u001b[0m\u001b[0mformat\u001b[0m\u001b[0;34m(\u001b[0m\u001b[0mmissing\u001b[0m\u001b[0;34m=\u001b[0m\u001b[0mmissing\u001b[0m\u001b[0;34m)\u001b[0m\u001b[0;34m\u001b[0m\u001b[0;34m\u001b[0m\u001b[0m\n\u001b[0m\u001b[1;32m   1256\u001b[0m         )\n\u001b[1;32m   1257\u001b[0m \u001b[0;34m\u001b[0m\u001b[0m\n",
      "\u001b[0;31mValueError\u001b[0m: Usecols do not match columns, columns expected but not found: ['Seq', 'Primer_Length', 'Length_Longest_Homopolymer', 'Percent_Homopolymer', 'Delta Tm', 'Primer_Name', 'GC_Content', 'Amplicon', 'Tm']"
     ]
    }
   ],
   "source": [
    "primer_df = pd.DataFrame([])\n",
    "\n",
    "for primer_file in primer_files:\n",
    "  exp_name = os.path.splitext(os.path.basename(primer_file))[0].rstrip(\"_primer_stats\")\n",
    "  df = pd.read_csv(primer_file, usecols = ['Primer_Name', 'Seq', 'Amplicon',\n",
    "                            'Primer_Length', 'Tm', 'Delta Tm',\n",
    "                            'GC_Content', 'Length_Longest_Homopolymer', 'Percent_Homopolymer'])\n",
    "  df['exp'] = exp_name\n",
    "  primer_df = primer_df.append(df)"
   ]
  },
  {
   "cell_type": "code",
   "execution_count": null,
   "metadata": {},
   "outputs": [],
   "source": []
  }
 ],
 "metadata": {
  "kernelspec": {
   "display_name": "Python 3",
   "language": "python",
   "name": "python3"
  },
  "language_info": {
   "codemirror_mode": {
    "name": "ipython",
    "version": 3
   },
   "file_extension": ".py",
   "mimetype": "text/x-python",
   "name": "python",
   "nbconvert_exporter": "python",
   "pygments_lexer": "ipython3",
   "version": "3.7.6"
  }
 },
 "nbformat": 4,
 "nbformat_minor": 2
}
